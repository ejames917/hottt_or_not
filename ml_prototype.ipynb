{
 "cells": [
  {
   "cell_type": "markdown",
   "metadata": {},
   "source": [
    "# CSCI 4253 Final Project\n",
    "# Machine Learning Prototype"
   ]
  },
  {
   "cell_type": "markdown",
   "metadata": {},
   "source": [
    "Brief note on the following. We compare a couple of machine learning models to see which one feels better for the situation based on metrics and ease of use.\n",
    "\n",
    "We have decided on using: "
   ]
  },
  {
   "cell_type": "code",
   "execution_count": 122,
   "metadata": {},
   "outputs": [],
   "source": [
    "import io\n",
    "import boto3\n",
    "import numpy as np\n",
    "import pandas as pd\n",
    "from sklearn.model_selection import train_test_split\n",
    "from sklearn.metrics import accuracy_score"
   ]
  },
  {
   "cell_type": "markdown",
   "metadata": {},
   "source": [
    "<br><br><br><br>\n",
    "## Import Data\n",
    "***\n",
    "Please change the configuration below for your own local settings. Currently this is importing a CSV file from an AWS S3 bucket."
   ]
  },
  {
   "cell_type": "code",
   "execution_count": null,
   "metadata": {},
   "outputs": [],
   "source": [
    "s3 = boto3.client('s3')\n",
    "file = s3.get_object(Bucket = '', Key = '.csv')\n",
    "df_all = pd.read_csv(io.BytesIO(file['Body'].read()))\n",
    "print(\"Done!\")"
   ]
  },
  {
   "cell_type": "markdown",
   "metadata": {},
   "source": [
    "Use the code below for testing with a local csv file:"
   ]
  },
  {
   "cell_type": "code",
   "execution_count": null,
   "metadata": {},
   "outputs": [],
   "source": [
    "df_all = pd.read_csv(\"music.csv\")\n",
    "print(\"Done!\")"
   ]
  },
  {
   "cell_type": "markdown",
   "metadata": {},
   "source": [
    "<br><br><br><br>\n",
    "## Process the data\n",
    "***\n",
    "Remove or configure any additional input features below.\n",
    "\n",
    "The following features are currently being analyzed as input features:\n",
    "- energy (not available in data set currently but will add it for next checkpoint)\n",
    "- duration\n",
    "- beats_start (number of beats in a song)\n",
    "- loudness\n",
    "- tempo\n",
    "- year\n",
    "- mode\n",
    "- key\n",
    "\n",
    "The output feature is:\n",
    "- song_hotttnesss\n",
    "\n",
    "For descriptions, please see: https://labrosa.ee.columbia.edu/millionsong/pages/example-track-description."
   ]
  },
  {
   "cell_type": "markdown",
   "metadata": {},
   "source": [
    "#### Below is a preview of the dataset"
   ]
  },
  {
   "cell_type": "code",
   "execution_count": 15,
   "metadata": {},
   "outputs": [
    {
     "data": {
      "text/html": [
       "<div>\n",
       "<style scoped>\n",
       "    .dataframe tbody tr th:only-of-type {\n",
       "        vertical-align: middle;\n",
       "    }\n",
       "\n",
       "    .dataframe tbody tr th {\n",
       "        vertical-align: top;\n",
       "    }\n",
       "\n",
       "    .dataframe thead th {\n",
       "        text-align: right;\n",
       "    }\n",
       "</style>\n",
       "<table border=\"1\" class=\"dataframe\">\n",
       "  <thead>\n",
       "    <tr style=\"text-align: right;\">\n",
       "      <th></th>\n",
       "      <th>artist.hotttnesss</th>\n",
       "      <th>artist.id</th>\n",
       "      <th>artist.name</th>\n",
       "      <th>artist_mbtags</th>\n",
       "      <th>artist_mbtags_count</th>\n",
       "      <th>bars_confidence</th>\n",
       "      <th>bars_start</th>\n",
       "      <th>beats_confidence</th>\n",
       "      <th>beats_start</th>\n",
       "      <th>duration</th>\n",
       "      <th>...</th>\n",
       "      <th>start_of_fade_out</th>\n",
       "      <th>tatums_confidence</th>\n",
       "      <th>tatums_start</th>\n",
       "      <th>tempo</th>\n",
       "      <th>terms</th>\n",
       "      <th>terms_freq</th>\n",
       "      <th>time_signature</th>\n",
       "      <th>time_signature_confidence</th>\n",
       "      <th>title</th>\n",
       "      <th>year</th>\n",
       "    </tr>\n",
       "  </thead>\n",
       "  <tbody>\n",
       "    <tr>\n",
       "      <th>0</th>\n",
       "      <td>0.401998</td>\n",
       "      <td>ARD7TVE1187B99BFB1</td>\n",
       "      <td>Casual</td>\n",
       "      <td>NaN</td>\n",
       "      <td>0.0</td>\n",
       "      <td>0.643</td>\n",
       "      <td>0.58521</td>\n",
       "      <td>0.834</td>\n",
       "      <td>0.58521</td>\n",
       "      <td>218.93179</td>\n",
       "      <td>...</td>\n",
       "      <td>218.932</td>\n",
       "      <td>0.779</td>\n",
       "      <td>0.28519</td>\n",
       "      <td>92.198</td>\n",
       "      <td>hip hop</td>\n",
       "      <td>1.000000</td>\n",
       "      <td>4.0</td>\n",
       "      <td>0.778</td>\n",
       "      <td>I Didn't Mean To</td>\n",
       "      <td>0</td>\n",
       "    </tr>\n",
       "    <tr>\n",
       "      <th>1</th>\n",
       "      <td>0.417500</td>\n",
       "      <td>ARMJAGH1187FB546F3</td>\n",
       "      <td>The Box Tops</td>\n",
       "      <td>classic pop and rock</td>\n",
       "      <td>1.0</td>\n",
       "      <td>0.007</td>\n",
       "      <td>0.71054</td>\n",
       "      <td>1.000</td>\n",
       "      <td>0.20627</td>\n",
       "      <td>148.03546</td>\n",
       "      <td>...</td>\n",
       "      <td>137.915</td>\n",
       "      <td>0.969</td>\n",
       "      <td>0.20627</td>\n",
       "      <td>121.274</td>\n",
       "      <td>blue-eyed soul</td>\n",
       "      <td>1.000000</td>\n",
       "      <td>4.0</td>\n",
       "      <td>0.384</td>\n",
       "      <td>Soul Deep</td>\n",
       "      <td>1969</td>\n",
       "    </tr>\n",
       "    <tr>\n",
       "      <th>2</th>\n",
       "      <td>0.343428</td>\n",
       "      <td>ARKRRTF1187B9984DA</td>\n",
       "      <td>Sonora Santanera</td>\n",
       "      <td>NaN</td>\n",
       "      <td>0.0</td>\n",
       "      <td>0.980</td>\n",
       "      <td>0.73152</td>\n",
       "      <td>0.980</td>\n",
       "      <td>0.73152</td>\n",
       "      <td>177.47546</td>\n",
       "      <td>...</td>\n",
       "      <td>172.304</td>\n",
       "      <td>0.482</td>\n",
       "      <td>0.42132</td>\n",
       "      <td>100.070</td>\n",
       "      <td>salsa</td>\n",
       "      <td>1.000000</td>\n",
       "      <td>1.0</td>\n",
       "      <td>0.000</td>\n",
       "      <td>Amor De Cabaret</td>\n",
       "      <td>0</td>\n",
       "    </tr>\n",
       "    <tr>\n",
       "      <th>3</th>\n",
       "      <td>0.454231</td>\n",
       "      <td>AR7G5I41187FB4CE6C</td>\n",
       "      <td>Adam Ant</td>\n",
       "      <td>uk</td>\n",
       "      <td>1.0</td>\n",
       "      <td>0.017</td>\n",
       "      <td>1.30621</td>\n",
       "      <td>0.809</td>\n",
       "      <td>0.81002</td>\n",
       "      <td>233.40363</td>\n",
       "      <td>...</td>\n",
       "      <td>217.124</td>\n",
       "      <td>0.601</td>\n",
       "      <td>0.56254</td>\n",
       "      <td>119.293</td>\n",
       "      <td>pop rock</td>\n",
       "      <td>0.988584</td>\n",
       "      <td>4.0</td>\n",
       "      <td>0.000</td>\n",
       "      <td>Something Girls</td>\n",
       "      <td>1982</td>\n",
       "    </tr>\n",
       "    <tr>\n",
       "      <th>4</th>\n",
       "      <td>0.401724</td>\n",
       "      <td>ARXR32B1187FB57099</td>\n",
       "      <td>Gob</td>\n",
       "      <td>NaN</td>\n",
       "      <td>0.0</td>\n",
       "      <td>0.175</td>\n",
       "      <td>1.06368</td>\n",
       "      <td>0.883</td>\n",
       "      <td>0.13576</td>\n",
       "      <td>209.60608</td>\n",
       "      <td>...</td>\n",
       "      <td>198.699</td>\n",
       "      <td>1.000</td>\n",
       "      <td>0.13576</td>\n",
       "      <td>129.738</td>\n",
       "      <td>pop punk</td>\n",
       "      <td>0.887288</td>\n",
       "      <td>4.0</td>\n",
       "      <td>0.562</td>\n",
       "      <td>Face the Ashes</td>\n",
       "      <td>2007</td>\n",
       "    </tr>\n",
       "  </tbody>\n",
       "</table>\n",
       "<p>5 rows × 35 columns</p>\n",
       "</div>"
      ],
      "text/plain": [
       "   artist.hotttnesss           artist.id       artist.name  \\\n",
       "0           0.401998  ARD7TVE1187B99BFB1            Casual   \n",
       "1           0.417500  ARMJAGH1187FB546F3      The Box Tops   \n",
       "2           0.343428  ARKRRTF1187B9984DA  Sonora Santanera   \n",
       "3           0.454231  AR7G5I41187FB4CE6C          Adam Ant   \n",
       "4           0.401724  ARXR32B1187FB57099               Gob   \n",
       "\n",
       "          artist_mbtags  artist_mbtags_count  bars_confidence  bars_start  \\\n",
       "0                   NaN                  0.0            0.643     0.58521   \n",
       "1  classic pop and rock                  1.0            0.007     0.71054   \n",
       "2                   NaN                  0.0            0.980     0.73152   \n",
       "3                    uk                  1.0            0.017     1.30621   \n",
       "4                   NaN                  0.0            0.175     1.06368   \n",
       "\n",
       "   beats_confidence  beats_start   duration  ...   start_of_fade_out  \\\n",
       "0             0.834      0.58521  218.93179  ...             218.932   \n",
       "1             1.000      0.20627  148.03546  ...             137.915   \n",
       "2             0.980      0.73152  177.47546  ...             172.304   \n",
       "3             0.809      0.81002  233.40363  ...             217.124   \n",
       "4             0.883      0.13576  209.60608  ...             198.699   \n",
       "\n",
       "   tatums_confidence  tatums_start    tempo           terms terms_freq  \\\n",
       "0              0.779       0.28519   92.198         hip hop   1.000000   \n",
       "1              0.969       0.20627  121.274  blue-eyed soul   1.000000   \n",
       "2              0.482       0.42132  100.070           salsa   1.000000   \n",
       "3              0.601       0.56254  119.293        pop rock   0.988584   \n",
       "4              1.000       0.13576  129.738        pop punk   0.887288   \n",
       "\n",
       "   time_signature  time_signature_confidence             title  year  \n",
       "0             4.0                      0.778  I Didn't Mean To     0  \n",
       "1             4.0                      0.384         Soul Deep  1969  \n",
       "2             1.0                      0.000   Amor De Cabaret     0  \n",
       "3             4.0                      0.000   Something Girls  1982  \n",
       "4             4.0                      0.562    Face the Ashes  2007  \n",
       "\n",
       "[5 rows x 35 columns]"
      ]
     },
     "execution_count": 15,
     "metadata": {},
     "output_type": "execute_result"
    }
   ],
   "source": [
    "df_all.head()"
   ]
  },
  {
   "cell_type": "markdown",
   "metadata": {},
   "source": [
    "#### This is a preview of the input features (and output) that we are using for our data set. Notice that the amout of data missing a \"hotttnesss\" score is relatively large. This can impact the final accuracy and an alternative method should be considered."
   ]
  },
  {
   "cell_type": "code",
   "execution_count": 109,
   "metadata": {},
   "outputs": [
    {
     "name": "stdout",
     "output_type": "stream",
     "text": [
      "     duration  beats_start  loudness    tempo  year  mode  key  \\\n",
      "0   218.93179      0.58521   -11.197   92.198     0     0  1.0   \n",
      "4   209.60608      0.13576    -4.501  129.738  2007     1  2.0   \n",
      "8   269.81832      1.22595   -13.496   86.643  1984     1  4.0   \n",
      "10  218.77506      0.11194   -10.021  146.765     0     0  5.0   \n",
      "11  245.21098      0.42896    -7.545  117.975     0     1  7.0   \n",
      "\n",
      "    song.hotttnesss  \n",
      "0          0.602120  \n",
      "4          0.604501  \n",
      "8          0.265861  \n",
      "10         0.000000  \n",
      "11         0.265861  \n",
      "There are 5649 data points.\n"
     ]
    }
   ],
   "source": [
    "df = df_all[['duration','beats_start', 'loudness', 'tempo', 'year', 'mode', 'key', 'song.hotttnesss']]\n",
    "df = df.dropna()\n",
    "print(df.head())\n",
    "print(\"There are\", df.shape[0], \"data points.\")"
   ]
  },
  {
   "cell_type": "markdown",
   "metadata": {},
   "source": [
    "#### While looking at the year, it appears that over many datapoints of the sample do not have a year. This would be too little data - so for now the year will be removed. However, it is still a possibility that we could get the year through another service, or draw more data which has the year available."
   ]
  },
  {
   "cell_type": "code",
   "execution_count": 110,
   "metadata": {},
   "outputs": [
    {
     "name": "stdout",
     "output_type": "stream",
     "text": [
      "There are 3064 data points\n",
      "Done!\n"
     ]
    }
   ],
   "source": [
    "# Can also use .sample(x) to get x random data points\n",
    "print(\"There are\", df[df.year != 0].shape[0],\"data points\")\n",
    "print(\"Done!\")"
   ]
  },
  {
   "cell_type": "code",
   "execution_count": 115,
   "metadata": {},
   "outputs": [],
   "source": [
    "X_all = df.drop(columns=['song.hotttnesss'])\n",
    "y_all = df['song.hotttnesss']"
   ]
  },
  {
   "cell_type": "markdown",
   "metadata": {},
   "source": [
    "<br><br><br><br>\n",
    "## Split the data\n",
    "***\n",
    "Split the data into training and testing. The model will train on the \"training\" data and then to test the accuracy we check how well the model performed in predicting the testing data.\n",
    "\n",
    "For now, 80% of the data will be used for training."
   ]
  },
  {
   "cell_type": "code",
   "execution_count": 117,
   "metadata": {},
   "outputs": [
    {
     "name": "stdout",
     "output_type": "stream",
     "text": [
      "Done!\n"
     ]
    }
   ],
   "source": [
    "X_train, X_test, y_train, y_test = train_test_split(X_all, y_all, test_size =0.2, random_state=39)\n",
    "print(\"Done!\")"
   ]
  },
  {
   "cell_type": "markdown",
   "metadata": {},
   "source": [
    "For classification, we want labels, aka \"hot\" or \"not hot\" for our predictions. Below converts into binary labels based on a threshold which determines which songs are \"hot\"."
   ]
  },
  {
   "cell_type": "code",
   "execution_count": 180,
   "metadata": {},
   "outputs": [],
   "source": [
    "threshold = 0.7\n",
    "y_train_label = [y >= threshold for y in y_train]\n",
    "y_test_label  = [y >= threshold for y in y_test]"
   ]
  },
  {
   "cell_type": "markdown",
   "metadata": {},
   "source": [
    "<br><br><br><br>\n",
    "## Train the model\n",
    "***\n",
    "For our model, since we are predicting a \"hotness\" score for an input. That is, given a plethora of data about a song, our model will take that and give a score in [0,1] which will represent how popular a song is.\n",
    "\n",
    "Note we are comparing two different models below."
   ]
  },
  {
   "cell_type": "markdown",
   "metadata": {},
   "source": [
    "### K-Nearest-Neighbors (KNN)\n",
    "Below, we are using k-nearest-neighbors, where we classify a song as popular based on proximity to other datapoints. We can also get a confidence score to based on proximity. For parameter tuning, we can also adjust the number of neighbours. \n",
    "\n",
    "Please see: https://scikit-learn.org/stable/modules/generated/sklearn.neighbors.KNeighborsClassifier.html for more information about KNN."
   ]
  },
  {
   "cell_type": "code",
   "execution_count": 183,
   "metadata": {},
   "outputs": [],
   "source": [
    "from sklearn.neighbors import KNeighborsClassifier\n",
    "\n",
    "def createKnn(n_neighbors, X, y):\n",
    "    knn = KNeighborsClassifier(n_neighbors = n_neighbors)\n",
    "    knn.fit(X,y)\n",
    "    return knn"
   ]
  },
  {
   "cell_type": "code",
   "execution_count": 203,
   "metadata": {},
   "outputs": [],
   "source": [
    "# E.g. to create a KNN model:\n",
    "# knn = createKnn(3, X_train, y_train_label)\n",
    "# print(\"Done!\")"
   ]
  },
  {
   "cell_type": "markdown",
   "metadata": {},
   "source": [
    "### Logistic Regression\n",
    "Below, we are using logistic regression, where we classify a song as popular if its hotness >= x where x is between 0 and 1 (e.g. x = 0.6). This would tell us not only if a song will be popular, but give us a confidence score, similar to hotness. \n",
    "\n",
    "Please see: https://scikit-learn.org/stable/modules/generated/sklearn.linear_model.LogisticRegression.html for more information about LogisticRegression."
   ]
  },
  {
   "cell_type": "code",
   "execution_count": 211,
   "metadata": {},
   "outputs": [],
   "source": [
    "from sklearn.linear_model import LogisticRegression\n",
    "def createLogReg(c, X, y):\n",
    "    logReg = LogisticRegression(C=c)\n",
    "    logReg.fit(X, y)\n",
    "    return logReg"
   ]
  },
  {
   "cell_type": "code",
   "execution_count": 206,
   "metadata": {},
   "outputs": [],
   "source": [
    "# E.g. to create a Logistic Regression model:\n",
    "# logReg = createLogReg(X_train, y_train_logReg)\n",
    "# print(\"Done!\")"
   ]
  },
  {
   "cell_type": "markdown",
   "metadata": {},
   "source": [
    "### Note on Linear Regression\n",
    "We tried using multivariate linear regression but for now decided to stick with classification. This is for a couple of reasons. Ultimately, we wanted to predict if a song is \"hot\" or \"not hot\" which is binary classification. Classification seemed more appropriate here, where we can then assign a confidence score afterwards (logisitc regression does the same principle of regression, but with a confidence score and binary classification). Secondly, we wanted to make it easier to compare metrics and felt for now it would be most feasible to only use classification to assist in comparison.\n",
    "\n",
    "For more information on Linear Regression in scikit-learn: https://scikit-learn.org/stable/modules/generated/sklearn.linear_model.LinearRegression.html"
   ]
  },
  {
   "cell_type": "markdown",
   "metadata": {},
   "source": [
    "<br><br><br><br>\n",
    "## Testing\n",
    "***"
   ]
  },
  {
   "cell_type": "markdown",
   "metadata": {},
   "source": [
    "### K-Nearest-Neighbors (KNN)"
   ]
  },
  {
   "cell_type": "markdown",
   "metadata": {},
   "source": [
    "To tune KNN, we will adjust the number of neighbors and see how the performance is affected (analyzed in the metrics section below)."
   ]
  },
  {
   "cell_type": "code",
   "execution_count": 204,
   "metadata": {},
   "outputs": [
    {
     "name": "stdout",
     "output_type": "stream",
     "text": [
      "Testing N = 1\n",
      "Testing N = 3\n",
      "Testing N = 5\n",
      "Testing N = 7\n",
      "Testing N = 9\n",
      "Testing N = 11\n",
      "Testing N = 13\n",
      "Testing N = 15\n",
      "Testing N = 17\n",
      "Testing N = 19\n",
      "Testing N = 21\n",
      "Testing N = 23\n",
      "Testing N = 25\n",
      "Testing N = 27\n",
      "Testing N = 29\n",
      "Average Accuracy ~ 0.9212389380530973\n"
     ]
    }
   ],
   "source": [
    "knn_accuracies = []\n",
    "n_neighbors = range(1,30,2)\n",
    "for n in n_neighbors:\n",
    "    print(\"Testing N =\",n)\n",
    "    knn = createKnn(n, X_train, y_train_label)\n",
    "    y_predict_knn = knn.predict(X_test)\n",
    "    knn_accuracies.append(accuracy_score(y_predict_knn, y_test_label))\n",
    "    \n",
    "print(\"Average Accuracy ~\", knn_accuracy)"
   ]
  },
  {
   "cell_type": "markdown",
   "metadata": {},
   "source": [
    "### Logistic Regression"
   ]
  },
  {
   "cell_type": "markdown",
   "metadata": {},
   "source": [
    "To tune Logistic Regression, we adjust the regularization strength. This affects how large the coefficients become for each input. This means these values affects the bias-variance tradeoff for how much a model either overfits or or overgeneralizes based on the data."
   ]
  },
  {
   "cell_type": "code",
   "execution_count": 217,
   "metadata": {},
   "outputs": [
    {
     "name": "stdout",
     "output_type": "stream",
     "text": [
      "Testing C = 0.1\n",
      "Testing C = 1.0\n",
      "Testing C = 2.0\n",
      "Testing C = 3.0\n",
      "Testing C = 4.0\n",
      "Testing C = 5.0\n",
      "Testing C = 6.0\n",
      "Testing C = 7.0\n",
      "Testing C = 8.0\n",
      "Testing C = 9.0\n",
      "Testing C = 10.0\n",
      "Testing C = 20.0\n",
      "Testing C = 30.0\n",
      "Testing C = 40.0\n",
      "Average Accuracy ~ 0.9362831858407079\n"
     ]
    }
   ],
   "source": [
    "logReg_accuracies = []\n",
    "C_values = np.append(np.append(np.array([0.1]),np.arange(1,10,1)),np.arange(10,50,10))\n",
    "for c in C_values:\n",
    "    print(\"Testing C =\",c)\n",
    "    logReg = createLogReg(c, X_train, y_train_label)\n",
    "    y_predict_logReg = logReg.predict(X_test)\n",
    "    logReg_accuracies.append(accuracy_score(y_predict_logReg, y_test_label))\n",
    "    \n",
    "print(\"Average Accuracy ~\", logReg_accuracy)"
   ]
  },
  {
   "cell_type": "markdown",
   "metadata": {},
   "source": [
    "<br><br><br><br>\n",
    "## Metrics\n",
    "***"
   ]
  },
  {
   "cell_type": "code",
   "execution_count": null,
   "metadata": {},
   "outputs": [],
   "source": []
  }
 ],
 "metadata": {
  "kernelspec": {
   "display_name": "Python 3",
   "language": "python",
   "name": "python3"
  },
  "language_info": {
   "codemirror_mode": {
    "name": "ipython",
    "version": 3
   },
   "file_extension": ".py",
   "mimetype": "text/x-python",
   "name": "python",
   "nbconvert_exporter": "python",
   "pygments_lexer": "ipython3",
   "version": "3.7.0"
  }
 },
 "nbformat": 4,
 "nbformat_minor": 2
}
